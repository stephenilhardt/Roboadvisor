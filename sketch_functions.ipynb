{
 "cells": [
  {
   "cell_type": "code",
   "execution_count": null,
   "metadata": {},
   "outputs": [],
   "source": [
    "import numpy as np\n",
    "import pandas as pd\n",
    "\n",
    "import arima_gru\n",
    "\n",
    "from fbprophet import Prophet\n",
    "\n",
    "import keras\n",
    "from keras import models\n",
    "from keras import layers\n",
    "\n",
    "from keras.layers import Dense, Activation, GRU, Dropout, Input\n",
    "from keras.models import Sequential\n",
    "\n",
    "from sklearn.preprocessing import StandardScaler"
   ]
  },
  {
   "cell_type": "code",
   "execution_count": null,
   "metadata": {},
   "outputs": [],
   "source": [
    "date_ranges = [\n",
    "\tpd.date_range(start='2014-03-17', end='2014-06-17').tolist(),\n",
    "\tpd.date_range(start='2014-06-18', end='2014-09-17').tolist(),\n",
    "\tpd.date_range(start='2014-09-18', end='2014-12-17').tolist(),\n",
    "\tpd.date_range(start='2014-12-18', end='2015-03-17').tolist(),\n",
    "\n",
    "\tpd.date_range(start='2015-03-18', end='2015-06-17').tolist(),\n",
    "\tpd.date_range(start='2015-06-18', end='2015-09-17').tolist(),\n",
    "\tpd.date_range(start='2015-09-18', end='2015-12-17').tolist(),\n",
    "\tpd.date_range(start='2015-12-18', end='2016-03-17').tolist(),\n",
    "\n",
    "\tpd.date_range(start='2016-03-18', end='2016-06-17').tolist(),\n",
    "\tpd.date_range(start='2016-06-18', end='2016-09-17').tolist(),\n",
    "\tpd.date_range(start='2016-09-18', end='2016-12-17').tolist(),\n",
    "\tpd.date_range(start='2016-12-18', end='2017-03-17').tolist(),\n",
    "\n",
    "\tpd.date_range(start='2017-03-18', end='2017-06-17').tolist(),\n",
    "\tpd.date_range(start='2017-06-18', end='2017-09-17').tolist(),\n",
    "\tpd.date_range(start='2017-09-18', end='2017-12-17').tolist(),\n",
    "\tpd.date_range(start='2017-12-18', end='2018-03-17').tolist(),\n",
    "\n",
    "\tpd.date_range(start='2018-03-18', end='2018-06-17').tolist(),\n",
    "\tpd.date_range(start='2018-06-18', end='2018-09-17').tolist(),\n",
    "\tpd.date_range(start='2018-09-18', end='2018-12-17').tolist(),\n",
    "\tpd.date_range(start='2018-12-18', end='2019-03-15').tolist()\n",
    "]"
   ]
  },
  {
   "cell_type": "code",
   "execution_count": null,
   "metadata": {},
   "outputs": [],
   "source": [
    "date_range = pd.date_range(start='2014-03-17', end='2014-06-17').tolist()\n",
    "etf = 'SPY'"
   ]
  },
  {
   "cell_type": "code",
   "execution_count": null,
   "metadata": {},
   "outputs": [],
   "source": [
    "dr_index = date_ranges.index(date_range)\n",
    "\n",
    "# Read in etfs CSV\n",
    "etfs = pd.read_csv('/home/ubuntu/csvs/etfs_pivot.csv', parse_dates=True, infer_datetime_format=True)\n",
    "etfs = etfs.set_index('date')\n",
    "etfs.index = pd.to_datetime(etfs.index)\n",
    "\n",
    "# Make dataframe for just input ETF\n",
    "etf_df = pd.DataFrame(etfs[etf])\n",
    "\n",
    "# Get prices for single date range\n",
    "true_price = etf_df[etf_df.index.isin(date_range)]\n",
    "true_price = true_price.reset_index()\n",
    "true_price.columns = ['ds', 'y']\n",
    "\n",
    "# Create ARIMA model\n",
    "arima_model = Prophet()\n",
    "arima_model.fit(true_price)\n",
    "\n",
    "# Make predictions three months out\n",
    "future = arima_model.make_future_dataframe(periods = len(date_ranges[dr_index+1]))\n",
    "forecast = arima_model.predict(future)\n",
    "\n",
    "# Extract predicted prices for three months out\n",
    "three_months_out = forecast[forecast['ds'].isin(date_ranges[dr_index+1])]\n",
    "predicted_prices = pd.DataFrame(three_months_out[['ds','yhat']])\n",
    "predicted_prices.columns = ['date','etf']\n",
    "\n",
    "# Make dataframes of predicted prices and actual prices\n",
    "predicted_prices = predicted_prices.set_index('date')\n",
    "actual_prices = pd.DataFrame(etf_df[etf_df.index.isin(date_ranges[dr_index + 1])][etf])\n",
    "\n",
    "# Convert predicted and actual prices to arrays\n",
    "predicted_array = predicted_prices.values\n",
    "actual_array = actual_prices.values\n",
    "\n",
    "# Calculate ARIMA residuals and create dataframe\n",
    "residuals = pd.DataFrame(index = date_ranges[dr_index + 1])\n",
    "residuals['residual'] = predicted_array - actual_array"
   ]
  },
  {
   "cell_type": "code",
   "execution_count": null,
   "metadata": {},
   "outputs": [],
   "source": [
    "dr_index = date_ranges.index(date_range)\n",
    "\n",
    "# Read in macroeconomic data CSV\n",
    "macro = pd.read_csv('/home/ubuntu/csvs/macro_pivot.csv', parse_dates=True, infer_datetime_format=True)\n",
    "macro = macro.set_index('date')\n",
    "macro.index = pd.to_datetime(macro.index)\n",
    "\n",
    "# Extract values for date range three months out and reshape\n",
    "X_frame = macro[macro.index.isin(date_ranges[dr_index + 1])]\n",
    "X_array = X_frame.values\n",
    "X = np.reshape(X_array, (X_array.shape[0], X_array.shape[1], 1))\n",
    "\n",
    "# Create target array for GRU model\n",
    "y = np.array(residuals['residual'])\n",
    "\n",
    "gru_model = Sequential()\n",
    "\n",
    "# Build GRU model\n",
    "gru_model.add(GRU(units=100, input_shape=(28779,1), return_sequences=True))\n",
    "gru_model.add(Dropout(0.2))\n",
    "gru_model.add(GRU(units=50, return_sequences=False))\n",
    "gru_model.add(Dropout(0.2))\n",
    "gru_model.add(Dense(1))\n",
    "gru_model.add(Activation('linear'))\n",
    "\n",
    "# Compile and fit GRU model\n",
    "gru_model.compile(loss='mse', optimizer='rmsprop')\n",
    "gru_model.fit(x=X,y=y, batch_size=256, epochs = 20, validation_split=0.2)\n",
    "gru_model.summary()"
   ]
  },
  {
   "cell_type": "code",
   "execution_count": null,
   "metadata": {},
   "outputs": [],
   "source": [
    "# Create new dataframe for 6 months out using ARIMA model from before\n",
    "new_future = arima_model.make_future_dataframe(periods=len(date_ranges[dr_index+1])+len(date_ranges[dr_index+2]))\n",
    "new_forecast = arima_model.predict(new_future)\n",
    "\n",
    "# Extract predictions for ARIMA model 6 months out and actual prices six months out for validation\n",
    "new_forecast_predictions = new_forecast[new_forecast['ds'].isin(date_ranges[dr_index+2])]['yhat'].values\n",
    "new_actuals = etf_df[etf_df.index.isin(date_ranges[dr_index+2])][etf].values\n",
    "\n",
    "# Get macroeconomic data 6 months out for validation\n",
    "macro_predict = macro[macro.index.isin(date_ranges[dr_index+2])].values\n",
    "predictors = np.reshape(macro_predict, (macro_predict.shape[0], macro_predict.shape[1], 1))\n",
    "\n",
    "# Calculate residual adjustments to ARIMA model 6 months out\n",
    "gru_residuals = gru_model.predict(predictors)\n",
    "gru_residuals = gru_residuals.reshape(1,91)\n",
    "\n",
    "# Calculate adjusted ARIMA predictions 6 months out\n",
    "final_predictions = new_forecast_predictions - gru_residuals"
   ]
  },
  {
   "cell_type": "code",
   "execution_count": null,
   "metadata": {},
   "outputs": [],
   "source": [
    "residuals"
   ]
  },
  {
   "cell_type": "code",
   "execution_count": null,
   "metadata": {},
   "outputs": [],
   "source": []
  }
 ],
 "metadata": {
  "kernelspec": {
   "display_name": "Python 3",
   "language": "python",
   "name": "python3"
  },
  "language_info": {
   "codemirror_mode": {
    "name": "ipython",
    "version": 3
   },
   "file_extension": ".py",
   "mimetype": "text/x-python",
   "name": "python",
   "nbconvert_exporter": "python",
   "pygments_lexer": "ipython3",
   "version": "3.5.6"
  }
 },
 "nbformat": 4,
 "nbformat_minor": 2
}
