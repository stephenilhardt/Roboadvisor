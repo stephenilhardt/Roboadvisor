{
 "cells": [
  {
   "cell_type": "code",
   "execution_count": 21,
   "metadata": {},
   "outputs": [],
   "source": [
    "import sys\n",
    "import time\n",
    "\n",
    "import numpy as np\n",
    "import pandas as pd\n",
    "\n",
    "from __future__ import print_function, division\n",
    "\n",
    "import requests\n",
    "import random\n",
    "from bs4 import BeautifulSoup\n",
    "\n",
    "import pickle\n",
    "\n",
    "import html5lib\n",
    "\n",
    "from fake_useragent import UserAgent"
   ]
  },
  {
   "cell_type": "code",
   "execution_count": 22,
   "metadata": {},
   "outputs": [],
   "source": [
    "ua = UserAgent()\n",
    "user_agent = {'User-agent': ua.random}"
   ]
  },
  {
   "cell_type": "code",
   "execution_count": 17,
   "metadata": {},
   "outputs": [],
   "source": [
    "response = requests.get('https://finance.yahoo.com/quote/BNDX/risk?p=BNDX', headers=user_agent)"
   ]
  },
  {
   "cell_type": "code",
   "execution_count": 18,
   "metadata": {},
   "outputs": [],
   "source": [
    "soup = BeautifulSoup(response.text, 'lxml')"
   ]
  },
  {
   "cell_type": "code",
   "execution_count": 19,
   "metadata": {},
   "outputs": [],
   "source": [
    "span_list = ['31','35','39','46','50','54','61','65','69','76','80','84','91',\n",
    "             '95','99','106','110','114','121','125','129']\n",
    "\n",
    "risk = soup.find_all('span', {'data-reactid': span_list})[4:]"
   ]
  },
  {
   "cell_type": "code",
   "execution_count": 20,
   "metadata": {},
   "outputs": [
    {
     "data": {
      "text/plain": [
       "[<span class=\"W(39%) Fl(start)\" data-reactid=\"31\">1.33</span>,\n",
       " <span class=\"W(39%) Fl(start)\" data-reactid=\"35\">1.88</span>,\n",
       " <span class=\"W(39%) Fl(start)\" data-reactid=\"39\">0</span>,\n",
       " <span class=\"W(39%) Fl(start)\" data-reactid=\"46\">0.62</span>,\n",
       " <span class=\"W(39%) Fl(start)\" data-reactid=\"50\">0.73</span>,\n",
       " <span class=\"W(39%) Fl(start)\" data-reactid=\"54\">0</span>,\n",
       " <span class=\"W(39%) Fl(start)\" data-reactid=\"61\">0.24</span>,\n",
       " <span class=\"W(39%) Fl(start)\" data-reactid=\"65\">0.32</span>,\n",
       " <span class=\"W(39%) Fl(start)\" data-reactid=\"69\">0</span>,\n",
       " <span class=\"W(39%) Fl(start)\" data-reactid=\"76\">57.47</span>,\n",
       " <span class=\"W(39%) Fl(start)\" data-reactid=\"80\">63.96</span>,\n",
       " <span class=\"W(39%) Fl(start)\" data-reactid=\"84\">0</span>,\n",
       " <span class=\"W(39%) Fl(start)\" data-reactid=\"91\">2.32</span>,\n",
       " <span class=\"W(39%) Fl(start)\" data-reactid=\"95\">2.51</span>,\n",
       " <span class=\"W(39%) Fl(start)\" data-reactid=\"99\">0</span>,\n",
       " <span class=\"W(39%) Fl(start)\" data-reactid=\"106\">0.71</span>,\n",
       " <span class=\"W(39%) Fl(start)\" data-reactid=\"110\">1.2</span>,\n",
       " <span class=\"W(39%) Fl(start)\" data-reactid=\"114\">0</span>,\n",
       " <span class=\"W(39%) Fl(start)\" data-reactid=\"121\">2.64</span>,\n",
       " <span class=\"W(39%) Fl(start)\" data-reactid=\"125\">4.19</span>,\n",
       " <span class=\"W(39%) Fl(start)\" data-reactid=\"129\">0</span>]"
      ]
     },
     "execution_count": 20,
     "metadata": {},
     "output_type": "execute_result"
    }
   ],
   "source": [
    "risk"
   ]
  },
  {
   "cell_type": "code",
   "execution_count": 23,
   "metadata": {},
   "outputs": [],
   "source": [
    "risk_df = pd.DataFrame(columns = {'3 Year Alpha', '5 Year Alpha', '10 Year Alpha',\n",
    "                                  '3 Year Beta', '5 Year Beta', '10 Year Beta',\n",
    "                                  '3 Year Mean Annual Return', '5 Year Mean Annual Return', '10 Year Mean Annual Return',\n",
    "                                  '3 Year R-Squared', '5 Year R-Squared', '10 Year R-Squared',\n",
    "                                  '3 Year Standard Deviation', '5 Year Standard Deviation', '10 Year Standard Deviation',\n",
    "                                  '3 Year Sharpe Ratio', '5 Year Sharpe Ratio', '10 Year Sharpe Ratio',\n",
    "                                  '3 Year Treynor Ratio', '5 Year Treynor Ratio', '10 Year Treynor Ratio'})"
   ]
  },
  {
   "cell_type": "code",
   "execution_count": 24,
   "metadata": {},
   "outputs": [],
   "source": [
    "with open('tickers.pkl', 'rb') as f:\n",
    "    tickers = pickle.load(f)"
   ]
  },
  {
   "cell_type": "code",
   "execution_count": 25,
   "metadata": {},
   "outputs": [],
   "source": [
    "risk_data = []"
   ]
  },
  {
   "cell_type": "code",
   "execution_count": 26,
   "metadata": {},
   "outputs": [],
   "source": [
    "span_list = ['31','35','39','46','50','54','61','65','69','76','80','84','91',\n",
    "             '95','99','106','110','114','121','125','129']"
   ]
  },
  {
   "cell_type": "code",
   "execution_count": 27,
   "metadata": {},
   "outputs": [],
   "source": [
    "def parse_risk_data(ticker):\n",
    "    response = requests.get('https://finance.yahoo.com/quote/{}/risk?p={}'.format(ticker,ticker), headers=user_agent)\n",
    "    soup = BeautifulSoup(response.text, 'lxml')\n",
    "    \n",
    "    risk = soup.find_all('span', {'data-reactid': span_list})[4:]\n",
    "    \n",
    "    risk_list = []\n",
    "    \n",
    "    for data in risk:\n",
    "        risk_list.append(data.text)\n",
    "    '''\n",
    "    risk_data['3 Year Alpha'] = risk[0].text\n",
    "    risk_data['5 Year Alpha'] = risk[1].text\n",
    "    risk_data['10 Year Alpha'] = risk[2].text\n",
    "    risk_data['3 Year Beta'] = risk[3].text\n",
    "    risk_data['5 Year Beta'] = risk[4].text\n",
    "    risk_data['10 Year Beta'] = risk[5].text\n",
    "    risk_data['3 Year Mean Annual Return'] = risk[6].text\n",
    "    risk_data['5 Year Mean Annual Return'] = risk[7].text\n",
    "    risk_data['10 Year Mean Annual Return'] = risk[8].text\n",
    "    risk_data['3 Year R-Squared'] = risk[9].text\n",
    "    risk_data['5 Year R-Squared'] = risk[10].text\n",
    "    risk_data['10 Year R-Squared'] = risk[11].text\n",
    "    risk_data['3 Year Standard Deviation'] = risk[12].text\n",
    "    risk_data['5 Year Standard Deviation'] = risk[13].text\n",
    "    risk_data['10 Year Standard Deviation'] = risk[14].text\n",
    "    risk_data['3 Year Sharpe Ratio'] = risk[15].text\n",
    "    risk_data['5 Year Sharpe Ratio'] = risk[16].text\n",
    "    risk_data['10 Year Sharpe Ratio'] = risk[17].text\n",
    "    risk_data['3 Year Treynor Ratio'] = risk[18].text\n",
    "    risk_data['5 Year Treynor Ratio'] = risk[19].text\n",
    "    risk_data['10 Year Treynor Ratio'] = risk[20].text'''\n",
    "    \n",
    "    return risk_list"
   ]
  },
  {
   "cell_type": "code",
   "execution_count": null,
   "metadata": {},
   "outputs": [],
   "source": [
    "for ticker in tickers[1541:]:\n",
    "    risk_list = parse_risk_data(ticker)\n",
    "    risk_data.append(risk_list)"
   ]
  },
  {
   "cell_type": "code",
   "execution_count": 32,
   "metadata": {},
   "outputs": [
    {
     "data": {
      "text/plain": [
       "1541"
      ]
     },
     "execution_count": 32,
     "metadata": {},
     "output_type": "execute_result"
    }
   ],
   "source": [
    "len(risk_data)"
   ]
  },
  {
   "cell_type": "code",
   "execution_count": 12,
   "metadata": {},
   "outputs": [
    {
     "ename": "NameError",
     "evalue": "name 'risk_data' is not defined",
     "output_type": "error",
     "traceback": [
      "\u001b[0;31m---------------------------------------------------------------------------\u001b[0m",
      "\u001b[0;31mNameError\u001b[0m                                 Traceback (most recent call last)",
      "\u001b[0;32m<ipython-input-12-c756d3379d8d>\u001b[0m in \u001b[0;36m<module>\u001b[0;34m()\u001b[0m\n\u001b[0;32m----> 1\u001b[0;31m \u001b[0;32mfor\u001b[0m \u001b[0mindex\u001b[0m\u001b[0;34m,\u001b[0m \u001b[0mrisk\u001b[0m \u001b[0;32min\u001b[0m \u001b[0menumerate\u001b[0m\u001b[0;34m(\u001b[0m\u001b[0mrisk_data\u001b[0m\u001b[0;34m)\u001b[0m\u001b[0;34m:\u001b[0m\u001b[0;34m\u001b[0m\u001b[0m\n\u001b[0m\u001b[1;32m      2\u001b[0m     \u001b[0;32mif\u001b[0m \u001b[0mlen\u001b[0m\u001b[0;34m(\u001b[0m\u001b[0mrisk\u001b[0m\u001b[0;34m)\u001b[0m \u001b[0;34m>=\u001b[0m \u001b[0;36m21\u001b[0m\u001b[0;34m:\u001b[0m\u001b[0;34m\u001b[0m\u001b[0m\n\u001b[1;32m      3\u001b[0m         \u001b[0;32mprint\u001b[0m\u001b[0;34m(\u001b[0m\u001b[0mindex\u001b[0m\u001b[0;34m,\u001b[0m \u001b[0mtickers\u001b[0m\u001b[0;34m[\u001b[0m\u001b[0mindex\u001b[0m\u001b[0;34m]\u001b[0m\u001b[0;34m,\u001b[0m \u001b[0mlen\u001b[0m\u001b[0;34m(\u001b[0m\u001b[0mrisk\u001b[0m\u001b[0;34m)\u001b[0m\u001b[0;34m,\u001b[0m \u001b[0mrisk_data\u001b[0m\u001b[0;34m[\u001b[0m\u001b[0mindex\u001b[0m\u001b[0;34m]\u001b[0m\u001b[0;34m[\u001b[0m\u001b[0;36m0\u001b[0m\u001b[0;34m]\u001b[0m\u001b[0;34m,\u001b[0m\u001b[0mrisk_data\u001b[0m\u001b[0;34m[\u001b[0m\u001b[0mindex\u001b[0m\u001b[0;34m]\u001b[0m\u001b[0;34m[\u001b[0m\u001b[0;36m1\u001b[0m\u001b[0;34m]\u001b[0m\u001b[0;34m,\u001b[0m\u001b[0mrisk_data\u001b[0m\u001b[0;34m[\u001b[0m\u001b[0mindex\u001b[0m\u001b[0;34m]\u001b[0m\u001b[0;34m[\u001b[0m\u001b[0;36m2\u001b[0m\u001b[0;34m]\u001b[0m\u001b[0;34m)\u001b[0m\u001b[0;34m\u001b[0m\u001b[0m\n",
      "\u001b[0;31mNameError\u001b[0m: name 'risk_data' is not defined"
     ]
    }
   ],
   "source": [
    "for index, risk in enumerate(risk_data):\n",
    "    if len(risk) >= 21:\n",
    "        print(index, tickers[index], len(risk), risk_data[index][0],risk_data[index][1],risk_data[index][2])"
   ]
  },
  {
   "cell_type": "code",
   "execution_count": 157,
   "metadata": {},
   "outputs": [
    {
     "data": {
      "text/plain": [
       "[u'1.17',\n",
       " u'0',\n",
       " u'0',\n",
       " u'0.86',\n",
       " u'0',\n",
       " u'0',\n",
       " u'0.89',\n",
       " u'0',\n",
       " u'0',\n",
       " u'94.46',\n",
       " u'0',\n",
       " u'0',\n",
       " u'10.03',\n",
       " u'0',\n",
       " u'0',\n",
       " u'0.93',\n",
       " u'0',\n",
       " u'0',\n",
       " u'11',\n",
       " u'0',\n",
       " u'0',\n",
       " u'']"
      ]
     },
     "execution_count": 157,
     "metadata": {},
     "output_type": "execute_result"
    }
   ],
   "source": [
    "risk_data[1235]"
   ]
  },
  {
   "cell_type": "code",
   "execution_count": 122,
   "metadata": {},
   "outputs": [
    {
     "data": {
      "text/plain": [
       "2007"
      ]
     },
     "execution_count": 122,
     "metadata": {},
     "output_type": "execute_result"
    }
   ],
   "source": [
    "len(risk_data)"
   ]
  },
  {
   "cell_type": "code",
   "execution_count": null,
   "metadata": {},
   "outputs": [],
   "source": []
  }
 ],
 "metadata": {
  "kernelspec": {
   "display_name": "Python 2",
   "language": "python",
   "name": "python2"
  },
  "language_info": {
   "codemirror_mode": {
    "name": "ipython",
    "version": 2
   },
   "file_extension": ".py",
   "mimetype": "text/x-python",
   "name": "python",
   "nbconvert_exporter": "python",
   "pygments_lexer": "ipython2",
   "version": "2.7.15"
  }
 },
 "nbformat": 4,
 "nbformat_minor": 2
}
