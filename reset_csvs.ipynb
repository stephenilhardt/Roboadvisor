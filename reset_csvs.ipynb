{
 "cells": [
  {
   "cell_type": "code",
   "execution_count": 111,
   "metadata": {},
   "outputs": [],
   "source": [
    "import numpy as np\n",
    "import pandas as pd"
   ]
  },
  {
   "cell_type": "code",
   "execution_count": 102,
   "metadata": {},
   "outputs": [],
   "source": [
    "arima = pd.read_csv('/home/ubuntu/csvs/arima.csv')\n",
    "arima = arima.drop('SPY', axis=1)\n",
    "arima = arima.set_index('date')\n",
    "arima.to_csv('/home/ubuntu/csvs/arima.csv')"
   ]
  },
  {
   "cell_type": "code",
   "execution_count": 109,
   "metadata": {},
   "outputs": [],
   "source": [
    "predictions = pd.read_csv('/home/ubuntu/csvs/predictions.csv')\n",
    "predictions = predictions.drop('SPY', axis=1)\n",
    "predictions = predictions.set_index('date')\n",
    "predictions.to_csv('/home/ubuntu/csvs/predictions.csv')"
   ]
  },
  {
   "cell_type": "code",
   "execution_count": 110,
   "metadata": {},
   "outputs": [],
   "source": [
    "residuals = pd.read_csv('/home/ubuntu/csvs/residuals.csv')\n",
    "residuals = residuals.drop('SPY', axis=1)\n",
    "residuals = residuals.set_index('date')\n",
    "residuals.to_csv('/home/ubuntu/csvs/residuals.csv')"
   ]
  },
  {
   "cell_type": "code",
   "execution_count": null,
   "metadata": {},
   "outputs": [],
   "source": []
  }
 ],
 "metadata": {
  "kernelspec": {
   "display_name": "Environment (conda_tensorflow_p36)",
   "language": "python",
   "name": "conda_tensorflow_p36"
  },
  "language_info": {
   "codemirror_mode": {
    "name": "ipython",
    "version": 3
   },
   "file_extension": ".py",
   "mimetype": "text/x-python",
   "name": "python",
   "nbconvert_exporter": "python",
   "pygments_lexer": "ipython3",
   "version": "3.6.5"
  }
 },
 "nbformat": 4,
 "nbformat_minor": 2
}
