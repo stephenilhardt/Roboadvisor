{
 "cells": [
  {
   "cell_type": "code",
   "execution_count": 1,
   "metadata": {},
   "outputs": [
    {
     "name": "stderr",
     "output_type": "stream",
     "text": [
      "Using TensorFlow backend.\n"
     ]
    }
   ],
   "source": [
    "import numpy as np\n",
    "import pandas as pd\n",
    "import pickle\n",
    "\n",
    "import arima_gru\n",
    "import validation"
   ]
  },
  {
   "cell_type": "code",
   "execution_count": 2,
   "metadata": {},
   "outputs": [],
   "source": [
    "with open('gru_model.pickle', 'rb') as p:\n",
    "    gru_model = pickle.load(p)"
   ]
  },
  {
   "cell_type": "code",
   "execution_count": 3,
   "metadata": {},
   "outputs": [
    {
     "name": "stderr",
     "output_type": "stream",
     "text": [
      "INFO:fbprophet:Disabling yearly seasonality. Run prophet with yearly_seasonality=True to override this.\n",
      "INFO:fbprophet:Disabling daily seasonality. Run prophet with daily_seasonality=True to override this.\n",
      "/home/ubuntu/anaconda3/envs/tensorflow_p36/lib/python3.6/site-packages/pystan/misc.py:399: FutureWarning: Conversion of the second argument of issubdtype from `float` to `np.floating` is deprecated. In future, it will be treated as `np.float64 == np.dtype(float).type`.\n",
      "  elif np.issubdtype(np.asarray(v).dtype, float):\n"
     ]
    },
    {
     "name": "stdout",
     "output_type": "stream",
     "text": [
      "Train on 86 samples, validate on 5 samples\n",
      "Epoch 1/5\n",
      "86/86 [==============================] - 65s 758ms/step - loss: 31.4601 - val_loss: 95.3515\n",
      "Epoch 2/5\n",
      "86/86 [==============================] - 65s 754ms/step - loss: 22.8785 - val_loss: 81.2271\n",
      "Epoch 3/5\n",
      "86/86 [==============================] - 65s 753ms/step - loss: 18.4889 - val_loss: 73.6590\n",
      "Epoch 4/5\n",
      "86/86 [==============================] - 65s 753ms/step - loss: 17.5177 - val_loss: 69.1341\n",
      "Epoch 5/5\n",
      "86/86 [==============================] - 62s 724ms/step - loss: 17.4938 - val_loss: 65.6884\n"
     ]
    },
    {
     "name": "stderr",
     "output_type": "stream",
     "text": [
      "INFO:fbprophet:Disabling yearly seasonality. Run prophet with yearly_seasonality=True to override this.\n",
      "INFO:fbprophet:Disabling daily seasonality. Run prophet with daily_seasonality=True to override this.\n"
     ]
    },
    {
     "name": "stdout",
     "output_type": "stream",
     "text": [
      "Train on 85 samples, validate on 5 samples\n",
      "Epoch 1/5\n",
      "85/85 [==============================] - 62s 735ms/step - loss: 30.9830 - val_loss: 116.9603\n",
      "Epoch 2/5\n",
      "85/85 [==============================] - 61s 712ms/step - loss: 27.3899 - val_loss: 110.3708\n",
      "Epoch 3/5\n",
      "85/85 [==============================] - 63s 743ms/step - loss: 26.9620 - val_loss: 107.1649\n",
      "Epoch 4/5\n",
      "85/85 [==============================] - 63s 742ms/step - loss: 24.7720 - val_loss: 103.3489\n",
      "Epoch 5/5\n",
      "85/85 [==============================] - 64s 750ms/step - loss: 26.1084 - val_loss: 101.1196\n"
     ]
    },
    {
     "name": "stderr",
     "output_type": "stream",
     "text": [
      "INFO:fbprophet:Disabling yearly seasonality. Run prophet with yearly_seasonality=True to override this.\n",
      "INFO:fbprophet:Disabling daily seasonality. Run prophet with daily_seasonality=True to override this.\n"
     ]
    },
    {
     "name": "stdout",
     "output_type": "stream",
     "text": [
      "Train on 87 samples, validate on 5 samples\n",
      "Epoch 1/5\n",
      "87/87 [==============================] - 64s 740ms/step - loss: 62.5329 - val_loss: 20.1889\n",
      "Epoch 2/5\n",
      "87/87 [==============================] - 64s 732ms/step - loss: 53.7323 - val_loss: 13.6057\n",
      "Epoch 3/5\n",
      "87/87 [==============================] - 64s 731ms/step - loss: 42.8558 - val_loss: 6.5485\n",
      "Epoch 4/5\n",
      "87/87 [==============================] - 64s 736ms/step - loss: 30.5265 - val_loss: 1.2522\n",
      "Epoch 5/5\n",
      "87/87 [==============================] - 64s 731ms/step - loss: 17.5495 - val_loss: 0.8830\n"
     ]
    },
    {
     "name": "stderr",
     "output_type": "stream",
     "text": [
      "INFO:fbprophet:Disabling yearly seasonality. Run prophet with yearly_seasonality=True to override this.\n",
      "INFO:fbprophet:Disabling daily seasonality. Run prophet with daily_seasonality=True to override this.\n"
     ]
    },
    {
     "name": "stdout",
     "output_type": "stream",
     "text": [
      "Train on 87 samples, validate on 5 samples\n",
      "Epoch 1/5\n",
      "87/87 [==============================] - 63s 728ms/step - loss: 54.6488 - val_loss: 102.0339\n",
      "Epoch 2/5\n",
      "87/87 [==============================] - 63s 727ms/step - loss: 48.5044 - val_loss: 91.3983\n",
      "Epoch 3/5\n",
      "87/87 [==============================] - 63s 723ms/step - loss: 48.1479 - val_loss: 85.4527\n",
      "Epoch 4/5\n",
      "87/87 [==============================] - 64s 732ms/step - loss: 45.7624 - val_loss: 80.6151\n",
      "Epoch 5/5\n",
      "87/87 [==============================] - 64s 731ms/step - loss: 46.0763 - val_loss: 77.6012\n"
     ]
    },
    {
     "name": "stderr",
     "output_type": "stream",
     "text": [
      "INFO:fbprophet:Disabling yearly seasonality. Run prophet with yearly_seasonality=True to override this.\n",
      "INFO:fbprophet:Disabling daily seasonality. Run prophet with daily_seasonality=True to override this.\n"
     ]
    },
    {
     "name": "stdout",
     "output_type": "stream",
     "text": [
      "Train on 86 samples, validate on 5 samples\n",
      "Epoch 1/5\n",
      "86/86 [==============================] - 64s 742ms/step - loss: 327.2295 - val_loss: 399.1953\n",
      "Epoch 2/5\n",
      "86/86 [==============================] - 65s 754ms/step - loss: 254.9204 - val_loss: 308.0962\n",
      "Epoch 3/5\n",
      "86/86 [==============================] - 64s 743ms/step - loss: 198.6603 - val_loss: 246.8228\n",
      "Epoch 4/5\n",
      "86/86 [==============================] - 63s 735ms/step - loss: 161.0974 - val_loss: 199.0890\n",
      "Epoch 5/5\n",
      "86/86 [==============================] - 63s 729ms/step - loss: 134.5424 - val_loss: 165.8743\n"
     ]
    },
    {
     "name": "stderr",
     "output_type": "stream",
     "text": [
      "INFO:fbprophet:Disabling yearly seasonality. Run prophet with yearly_seasonality=True to override this.\n",
      "INFO:fbprophet:Disabling daily seasonality. Run prophet with daily_seasonality=True to override this.\n"
     ]
    },
    {
     "name": "stdout",
     "output_type": "stream",
     "text": [
      "Train on 86 samples, validate on 5 samples\n",
      "Epoch 1/5\n",
      "86/86 [==============================] - 63s 735ms/step - loss: 229.5918 - val_loss: 37.8637\n",
      "Epoch 2/5\n",
      "86/86 [==============================] - 62s 717ms/step - loss: 190.4228 - val_loss: 22.7067\n",
      "Epoch 3/5\n",
      "86/86 [==============================] - 62s 723ms/step - loss: 160.2473 - val_loss: 12.9344\n",
      "Epoch 4/5\n",
      "86/86 [==============================] - 62s 721ms/step - loss: 137.5002 - val_loss: 6.4042\n",
      "Epoch 5/5\n",
      "86/86 [==============================] - 63s 738ms/step - loss: 116.4659 - val_loss: 2.7156\n"
     ]
    },
    {
     "name": "stderr",
     "output_type": "stream",
     "text": [
      "INFO:fbprophet:Disabling daily seasonality. Run prophet with daily_seasonality=True to override this.\n"
     ]
    },
    {
     "name": "stdout",
     "output_type": "stream",
     "text": [
      "Train on 87 samples, validate on 5 samples\n",
      "Epoch 1/5\n",
      "87/87 [==============================] - 64s 732ms/step - loss: 26.6834 - val_loss: 18.2851\n",
      "Epoch 2/5\n",
      "87/87 [==============================] - 63s 726ms/step - loss: 24.6404 - val_loss: 21.7478\n",
      "Epoch 3/5\n",
      "87/87 [==============================] - 63s 729ms/step - loss: 22.4896 - val_loss: 25.1195\n",
      "Epoch 4/5\n",
      "87/87 [==============================] - 64s 735ms/step - loss: 20.0803 - val_loss: 28.2879\n",
      "Epoch 5/5\n",
      "87/87 [==============================] - 64s 737ms/step - loss: 18.9112 - val_loss: 31.5758\n"
     ]
    },
    {
     "name": "stderr",
     "output_type": "stream",
     "text": [
      "INFO:fbprophet:Disabling daily seasonality. Run prophet with daily_seasonality=True to override this.\n"
     ]
    },
    {
     "name": "stdout",
     "output_type": "stream",
     "text": [
      "Train on 87 samples, validate on 5 samples\n",
      "Epoch 1/5\n",
      "87/87 [==============================] - 64s 740ms/step - loss: 81.0934 - val_loss: 83.3241\n",
      "Epoch 2/5\n",
      "87/87 [==============================] - 64s 732ms/step - loss: 70.7128 - val_loss: 69.7056\n",
      "Epoch 3/5\n",
      "87/87 [==============================] - 61s 705ms/step - loss: 60.4826 - val_loss: 58.6796\n",
      "Epoch 4/5\n",
      "87/87 [==============================] - 64s 734ms/step - loss: 55.4502 - val_loss: 49.7997\n",
      "Epoch 5/5\n",
      "87/87 [==============================] - 64s 732ms/step - loss: 49.0387 - val_loss: 42.2058\n"
     ]
    },
    {
     "name": "stderr",
     "output_type": "stream",
     "text": [
      "INFO:fbprophet:Disabling daily seasonality. Run prophet with daily_seasonality=True to override this.\n"
     ]
    },
    {
     "name": "stdout",
     "output_type": "stream",
     "text": [
      "Train on 86 samples, validate on 5 samples\n",
      "Epoch 1/5\n",
      "86/86 [==============================] - 64s 744ms/step - loss: 218.8064 - val_loss: 147.4608\n",
      "Epoch 2/5\n",
      "86/86 [==============================] - 62s 725ms/step - loss: 185.5484 - val_loss: 118.5468\n",
      "Epoch 3/5\n",
      "86/86 [==============================] - 62s 723ms/step - loss: 160.9429 - val_loss: 94.7604\n",
      "Epoch 4/5\n",
      "86/86 [==============================] - 60s 703ms/step - loss: 138.2152 - val_loss: 75.1854\n",
      "Epoch 5/5\n",
      "86/86 [==============================] - 63s 735ms/step - loss: 118.5892 - val_loss: 59.3344\n"
     ]
    },
    {
     "name": "stderr",
     "output_type": "stream",
     "text": [
      "INFO:fbprophet:Disabling daily seasonality. Run prophet with daily_seasonality=True to override this.\n"
     ]
    },
    {
     "name": "stdout",
     "output_type": "stream",
     "text": [
      "Train on 85 samples, validate on 5 samples\n",
      "Epoch 1/5\n",
      "85/85 [==============================] - 63s 737ms/step - loss: 201.8620 - val_loss: 92.1699\n",
      "Epoch 2/5\n",
      "85/85 [==============================] - 62s 731ms/step - loss: 164.8577 - val_loss: 70.9980\n",
      "Epoch 3/5\n",
      "85/85 [==============================] - 63s 743ms/step - loss: 138.2088 - val_loss: 55.4444\n",
      "Epoch 4/5\n",
      "85/85 [==============================] - 63s 740ms/step - loss: 118.5320 - val_loss: 44.1599\n",
      "Epoch 5/5\n",
      "85/85 [==============================] - 62s 734ms/step - loss: 102.7545 - val_loss: 33.6586\n"
     ]
    }
   ],
   "source": [
    "gru_model = validation.build_gru('SPY', gru_model)"
   ]
  },
  {
   "cell_type": "code",
   "execution_count": 5,
   "metadata": {},
   "outputs": [],
   "source": [
    "with open('gru_optimized.pickle', 'wb') as p:\n",
    "    pickle.dump(gru_model, p)"
   ]
  },
  {
   "cell_type": "code",
   "execution_count": null,
   "metadata": {},
   "outputs": [],
   "source": []
  }
 ],
 "metadata": {
  "kernelspec": {
   "display_name": "Environment (conda_tensorflow_p36)",
   "language": "python",
   "name": "conda_tensorflow_p36"
  },
  "language_info": {
   "codemirror_mode": {
    "name": "ipython",
    "version": 3
   },
   "file_extension": ".py",
   "mimetype": "text/x-python",
   "name": "python",
   "nbconvert_exporter": "python",
   "pygments_lexer": "ipython3",
   "version": "3.6.5"
  }
 },
 "nbformat": 4,
 "nbformat_minor": 2
}
